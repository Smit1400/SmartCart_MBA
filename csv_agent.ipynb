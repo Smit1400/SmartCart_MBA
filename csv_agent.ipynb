{
 "cells": [
  {
   "cell_type": "code",
   "execution_count": 1,
   "metadata": {},
   "outputs": [
    {
     "data": {
      "text/plain": [
       "True"
      ]
     },
     "execution_count": 1,
     "metadata": {},
     "output_type": "execute_result"
    }
   ],
   "source": [
    "import tabulate\n",
    "import operator\n",
    "import os\n",
    "import pandas as pd\n",
    "from langchain.llms import OpenAI\n",
    "from langchain.chat_models import ChatOpenAI\n",
    "from langchain_experimental.agents.agent_toolkits import create_csv_agent\n",
    "from langchain.agents.agent_types import AgentType\n",
    "from dotenv import load_dotenv, dotenv_values \n",
    "\n",
    "load_dotenv()"
   ]
  },
  {
   "cell_type": "code",
   "execution_count": 2,
   "metadata": {},
   "outputs": [],
   "source": [
    "openai_api_key = os.getenv(\"OPENAI_API_KEY\")\n",
    "langchain_api_key = os.getenv(\"LANGCHAIN_API_KEY\")\n",
    "os.environ[\"LANGCHAIN_TRACING_V2\"] = 'true'\n",
    "os.environ[\"LANGCHAIN_ENDPOINT\"] = \"https://api.smith.langchain.com\"\n",
    "os.environ[\"LANGCHAIN_API_KEY\"] = langchain_api_key\n",
    "os.environ[\"LANGCHAIN_PROJECT\"] =\"multi-agent\"\n",
    "os.environ['OPENAI_API_KEY'] = openai_api_key"
   ]
  },
  {
   "cell_type": "code",
   "execution_count": 11,
   "metadata": {},
   "outputs": [
    {
     "name": "stderr",
     "output_type": "stream",
     "text": [
      "c:\\SmartCart_MBA\\streamlit_app\\venv\\lib\\site-packages\\langchain_experimental\\agents\\agent_toolkits\\pandas\\base.py:242: UserWarning: Received additional kwargs {'stop': ['\\nObservation:'], 'handle_parsing_errors': True} which are no longer supported.\n",
      "  warnings.warn(\n"
     ]
    },
    {
     "name": "stdout",
     "output_type": "stream",
     "text": [
      "\n",
      "\n",
      "\u001b[1m> Entering new AgentExecutor chain...\u001b[0m\n",
      "\u001b[32;1m\u001b[1;3mTo generate graphs and insights for the business in France, we can follow these steps:\n",
      "\n",
      "1. Filter the dataframe for transactions from France.\n",
      "2. Generate various plots such as:\n",
      "   - A bar plot of the most sold products.\n",
      "   - A line plot of sales over time.\n",
      "   - A pie chart of sales distribution among different customers.\n",
      "3. Save these plots and insights into a PDF.\n",
      "\n",
      "However, I'm an AI language model and currently, I don't have the capability to directly generate plots or PDFs. But I can provide you with the Python code that you can use to perform these tasks.\n",
      "\n",
      "Here's an example of how you can do it using pandas, matplotlib, and a library called matplotlib.backends.backend_pdf for creating the PDF:\n",
      "\n",
      "```python\n",
      "import pandas as pd\n",
      "import matplotlib.pyplot as plt\n",
      "from matplotlib.backends.backend_pdf import PdfPages\n",
      "\n",
      "# Filter the dataframe for transactions from France\n",
      "df_france = df[df['Country'] == 'France']\n",
      "\n",
      "# Create a PDF object\n",
      "pdf_pages = PdfPages('france_sales_report.pdf')\n",
      "\n",
      "# Generate a bar plot of the most sold products\n",
      "plt.figure(figsize=(10,6))\n",
      "df_france['ProductName'].value_counts().head(10).plot(kind='bar')\n",
      "plt.title('Top 10 Sold Products in France')\n",
      "plt.xlabel('Product Name')\n",
      "plt.ylabel('Quantity Sold')\n",
      "pdf_pages.savefig()  # saves the current figure into a pdf page\n",
      "plt.clf()\n",
      "\n",
      "# Generate a line plot of sales over time\n",
      "df_france['Date'] = pd.to_datetime(df_france['Date'])\n",
      "df_france.groupby('Date')['Quantity'].sum().plot()\n",
      "plt.title('Sales Over Time in France')\n",
      "plt.xlabel('Date')\n",
      "plt.ylabel('Quantity Sold')\n",
      "pdf_pages.savefig()  # saves the current figure into a pdf page\n",
      "plt.clf()\n",
      "\n",
      "# Generate a pie chart of sales distribution among different customers\n",
      "df_france['CustomerNo'].value_counts().head(10).plot(kind='pie', autopct='%1.1f%%')\n",
      "plt.title('Sales Distribution Among Top 10 Customers in France')\n",
      "pdf_pages.savefig()  # saves the current figure into a pdf page\n",
      "plt.clf()\n",
      "\n",
      "# Close the PDF object\n",
      "pdf_pages.close()\n",
      "```\n",
      "\n",
      "This code will create a PDF named 'france_sales_report.pdf' in your current directory with the three plots. Please replace the column names if they are different in your dataframe. Also, make sure to handle any missing values in your dataframe before running this code.\u001b[0m\n",
      "\n",
      "\u001b[1m> Finished chain.\u001b[0m\n"
     ]
    }
   ],
   "source": [
    "file_path= 'data.csv'\n",
    "\n",
    "csv_agent= create_csv_agent(\n",
    "        ChatOpenAI(temperature=0, model=\"gpt-4\"),\n",
    "        file_path, \n",
    "        verbose=True,\n",
    "        stop=[\"\\nObservation:\"],\n",
    "        agent_type=AgentType.OPENAI_FUNCTIONS,\n",
    "        handle_parsing_errors=True\n",
    "    )\n",
    "    \n",
    "resut = csv_agent.run(\"give me some graphs for the country of france which will help me understand the business over there, store all the graphs with insights in a pdf and save it\")"
   ]
  },
  {
   "cell_type": "code",
   "execution_count": 12,
   "metadata": {},
   "outputs": [
    {
     "name": "stdout",
     "output_type": "stream",
     "text": [
      "To generate graphs and insights for the business in France, we can follow these steps:\n",
      "\n",
      "1. Filter the dataframe for transactions from France.\n",
      "2. Generate various plots such as:\n",
      "   - A bar plot of the most sold products.\n",
      "   - A line plot of sales over time.\n",
      "   - A pie chart of sales distribution among different customers.\n",
      "3. Save these plots and insights into a PDF.\n",
      "\n",
      "However, I'm an AI language model and currently, I don't have the capability to directly generate plots or PDFs. But I can provide you with the Python code that you can use to perform these tasks.\n",
      "\n",
      "Here's an example of how you can do it using pandas, matplotlib, and a library called matplotlib.backends.backend_pdf for creating the PDF:\n",
      "\n",
      "```python\n",
      "import pandas as pd\n",
      "import matplotlib.pyplot as plt\n",
      "from matplotlib.backends.backend_pdf import PdfPages\n",
      "\n",
      "# Filter the dataframe for transactions from France\n",
      "df_france = df[df['Country'] == 'France']\n",
      "\n",
      "# Create a PDF object\n",
      "pdf_pages = PdfPages('france_sales_report.pdf')\n",
      "\n",
      "# Generate a bar plot of the most sold products\n",
      "plt.figure(figsize=(10,6))\n",
      "df_france['ProductName'].value_counts().head(10).plot(kind='bar')\n",
      "plt.title('Top 10 Sold Products in France')\n",
      "plt.xlabel('Product Name')\n",
      "plt.ylabel('Quantity Sold')\n",
      "pdf_pages.savefig()  # saves the current figure into a pdf page\n",
      "plt.clf()\n",
      "\n",
      "# Generate a line plot of sales over time\n",
      "df_france['Date'] = pd.to_datetime(df_france['Date'])\n",
      "df_france.groupby('Date')['Quantity'].sum().plot()\n",
      "plt.title('Sales Over Time in France')\n",
      "plt.xlabel('Date')\n",
      "plt.ylabel('Quantity Sold')\n",
      "pdf_pages.savefig()  # saves the current figure into a pdf page\n",
      "plt.clf()\n",
      "\n",
      "# Generate a pie chart of sales distribution among different customers\n",
      "df_france['CustomerNo'].value_counts().head(10).plot(kind='pie', autopct='%1.1f%%')\n",
      "plt.title('Sales Distribution Among Top 10 Customers in France')\n",
      "pdf_pages.savefig()  # saves the current figure into a pdf page\n",
      "plt.clf()\n",
      "\n",
      "# Close the PDF object\n",
      "pdf_pages.close()\n",
      "```\n",
      "\n",
      "This code will create a PDF named 'france_sales_report.pdf' in your current directory with the three plots. Please replace the column names if they are different in your dataframe. Also, make sure to handle any missing values in your dataframe before running this code.\n"
     ]
    }
   ],
   "source": [
    "print(resut)"
   ]
  },
  {
   "cell_type": "code",
   "execution_count": 15,
   "metadata": {},
   "outputs": [
    {
     "name": "stdout",
     "output_type": "stream",
     "text": [
      "No Python code block found.\n"
     ]
    }
   ],
   "source": [
    "import re\n",
    "pattern = r\"python```\"\n",
    "\n",
    "matched = re.search(pattern, resut, re.DOTALL)\n",
    "\n",
    "if matched:\n",
    "    extracted_code = matched.group(1).strip()\n",
    "    print(extracted_code)\n",
    "else:\n",
    "    print(\"No Python code block found.\")"
   ]
  },
  {
   "cell_type": "code",
   "execution_count": 25,
   "metadata": {},
   "outputs": [
    {
     "name": "stdout",
     "output_type": "stream",
     "text": [
      "\n",
      "import pandas as pd\n",
      "import matplotlib.pyplot as plt\n",
      "from matplotlib.backends.backend_pdf import PdfPages\n",
      "\n",
      "# Filter the dataframe for transactions from France\n",
      "df_france = df[df['Country'] == 'France']\n",
      "\n",
      "# Create a PDF object\n",
      "pdf_pages = PdfPages('france_sales_report.pdf')\n",
      "\n",
      "# Generate a bar plot of the most sold products\n",
      "plt.figure(figsize=(10,6))\n",
      "df_france['ProductName'].value_counts().head(10).plot(kind='bar')\n",
      "plt.title('Top 10 Sold Products in France')\n",
      "plt.xlabel('Product Name')\n",
      "plt.ylabel('Quantity Sold')\n",
      "pdf_pages.savefig()  # saves the current figure into a pdf page\n",
      "plt.clf()\n",
      "\n",
      "# Generate a line plot of sales over time\n",
      "df_france['Date'] = pd.to_datetime(df_france['Date'])\n",
      "df_france.groupby('Date')['Quantity'].sum().plot()\n",
      "plt.title('Sales Over Time in France')\n",
      "plt.xlabel('Date')\n",
      "plt.ylabel('Quantity Sold')\n",
      "pdf_pages.savefig()  # saves the current figure into a pdf page\n",
      "plt.clf()\n",
      "\n",
      "# Generate a pie chart of sales distribution among different customers\n",
      "df_france['CustomerNo'].value_counts().head(10).plot(kind='pie', autopct='%1.1f%%')\n",
      "plt.title('Sales Distribution Among Top 10 Customers in France')\n",
      "pdf_pages.savefig()  # saves the current figure into a pdf page\n",
      "plt.clf()\n",
      "\n",
      "# Close the PDF object\n",
      "pdf_pages.close()\n",
      "\n"
     ]
    }
   ],
   "source": [
    "print(resut.split(\"python\")[1].split('```')[0])"
   ]
  },
  {
   "cell_type": "code",
   "execution_count": null,
   "metadata": {},
   "outputs": [],
   "source": []
  },
  {
   "cell_type": "code",
   "execution_count": null,
   "metadata": {},
   "outputs": [],
   "source": []
  },
  {
   "cell_type": "code",
   "execution_count": 13,
   "metadata": {},
   "outputs": [
    {
     "data": {
      "text/plain": [
       "str"
      ]
     },
     "execution_count": 13,
     "metadata": {},
     "output_type": "execute_result"
    }
   ],
   "source": [
    "type(resut)"
   ]
  },
  {
   "cell_type": "code",
   "execution_count": 11,
   "metadata": {},
   "outputs": [
    {
     "name": "stdout",
     "output_type": "stream",
     "text": [
      "\n",
      "\n",
      "\u001b[1m> Entering new AgentExecutor chain...\u001b[0m\n",
      "\u001b[32;1m\u001b[1;3m\n",
      "Invoking: `python_repl_ast` with `{'query': \"df['Revenue'] = df['Price'] * df['Quantity']\"}`\n",
      "responded: To find out which product generates more revenue, we need to create a new column in the dataframe that represents the total revenue for each transaction. This can be calculated by multiplying the Price and Quantity columns. Then, we can group by the ProductName and sum the revenue, sorting in descending order to find the product that generates the most revenue.\n",
      "\n",
      "Let's do this in steps. First, let's create the new column 'Revenue'.\n",
      "\n",
      "\u001b[0m\u001b[36;1m\u001b[1;3m\u001b[0m\u001b[32;1m\u001b[1;3m\n",
      "Invoking: `python_repl_ast` with `{'query': \"df.groupby('ProductName')['Revenue'].sum().sort_values(ascending=False).head(1)\"}`\n",
      "responded: Now that we have the 'Revenue' column, let's group by 'ProductName' and sum the 'Revenue', then sort in descending order to find the product that generates the most revenue.\n",
      "\n",
      "\u001b[0m\u001b[36;1m\u001b[1;3mProductName\n",
      "Popcorn Holder    583286.51\n",
      "Name: Revenue, dtype: float64\u001b[0m\u001b[32;1m\u001b[1;3mThe product that generates the most revenue is the 'Popcorn Holder' with a total revenue of 583286.51.\u001b[0m\n",
      "\n",
      "\u001b[1m> Finished chain.\u001b[0m\n"
     ]
    },
    {
     "data": {
      "text/plain": [
       "\"The product that generates the most revenue is the 'Popcorn Holder' with a total revenue of 583286.51.\""
      ]
     },
     "execution_count": 11,
     "metadata": {},
     "output_type": "execute_result"
    }
   ],
   "source": [
    "csv_agent.run(\"Which product generates more revenue?\")\n"
   ]
  },
  {
   "cell_type": "code",
   "execution_count": 28,
   "metadata": {},
   "outputs": [],
   "source": [
    "question = \"Give me a detailed report for france\"\n",
    "\n",
    "propmt = \"\"\" Generate Python code that creates a comprehensive series of graphs to analyze business data for country. Also include the code for loading the data (data.csv)\n",
    "The visualization should potentially include, but not be limited to, a bar plot of the top-selling products, a line plot showing sales trends over time, and a pie chart detailing the sales distribution among top customers. \n",
    "Additionally, consider including other relevant analyses such as sales by category, regional sales distribution, and seasonality effects on sales, if the data permits. \n",
    "\n",
    "The graphs should be stored in a PDF named 'sales_report.pdf'. Utilize pandas for data handling, matplotlib for plotting, and the matplotlib.backends.backend_pdf module for generating the PDF file. \n",
    "The code should be well-commented to explain the purpose of each graph and how it contributes to understanding the business climate in `country_name`. Include brief insights or interpretations for each plot to highlight the key takeaways and business implications derived from the data analysis.\n",
    "\"\"\"  + question"
   ]
  },
  {
   "cell_type": "code",
   "execution_count": 29,
   "metadata": {},
   "outputs": [
    {
     "name": "stdout",
     "output_type": "stream",
     "text": [
      "\n",
      "\n",
      "\u001b[1m> Entering new AgentExecutor chain...\u001b[0m\n",
      "\u001b[32;1m\u001b[1;3mHere is a Python code snippet that loads the data from a CSV file, filters it for France, and generates a series of graphs to analyze the business data. The graphs are then saved in a PDF file named 'France_sales_report.pdf'. \n",
      "\n",
      "```python\n",
      "# Import necessary libraries\n",
      "import pandas as pd\n",
      "import matplotlib.pyplot as plt\n",
      "from matplotlib.backends.backend_pdf import PdfPages\n",
      "\n",
      "# Load the data\n",
      "df = pd.read_csv('data.csv')\n",
      "\n",
      "# Filter the data for France\n",
      "df_france = df[df['Country'] == 'France']\n",
      "\n",
      "# Create a PDF for the plots\n",
      "pdf_pages = PdfPages('France_sales_report.pdf')\n",
      "\n",
      "# Create a bar plot of the top-selling products\n",
      "top_products = df_france.groupby('ProductName')['Quantity'].sum().sort_values(ascending=False).head(10)\n",
      "top_products.plot(kind='bar', title='Top 10 Selling Products in France')\n",
      "plt.xlabel('Product Name')\n",
      "plt.ylabel('Quantity Sold')\n",
      "plt.tight_layout()\n",
      "pdf_pages.savefig()\n",
      "plt.clf()\n",
      "\n",
      "# Create a line plot showing sales trends over time\n",
      "df_france['Date'] = pd.to_datetime(df_france['Date'])\n",
      "sales_trends = df_france.groupby('Date')['Price'].sum()\n",
      "sales_trends.plot(kind='line', title='Sales Trends Over Time in France')\n",
      "plt.xlabel('Date')\n",
      "plt.ylabel('Sales')\n",
      "plt.tight_layout()\n",
      "pdf_pages.savefig()\n",
      "plt.clf()\n",
      "\n",
      "# Create a pie chart detailing the sales distribution among top customers\n",
      "top_customers = df_france.groupby('CustomerNo')['Price'].sum().sort_values(ascending=False).head(10)\n",
      "top_customers.plot(kind='pie', title='Sales Distribution Among Top 10 Customers in France', autopct='%1.1f%%')\n",
      "plt.tight_layout()\n",
      "pdf_pages.savefig()\n",
      "plt.clf()\n",
      "\n",
      "# Save and close the PDF file\n",
      "pdf_pages.close()\n",
      "```\n",
      "\n",
      "Please note that this code assumes that the 'Date' column in your data is in the format 'mm/dd/yyyy'. If it's in a different format, you'll need to adjust the code accordingly. Also, the code does not include analyses such as sales by category, regional sales distribution, and seasonality effects on sales, as the provided data does not seem to include necessary information for these analyses. If your data includes additional columns that can be used for these analyses, you can add similar code blocks to create corresponding graphs.\u001b[0m\n",
      "\n",
      "\u001b[1m> Finished chain.\u001b[0m\n"
     ]
    }
   ],
   "source": [
    "result = csv_agent.run(propmt)"
   ]
  },
  {
   "cell_type": "code",
   "execution_count": 31,
   "metadata": {},
   "outputs": [
    {
     "name": "stderr",
     "output_type": "stream",
     "text": [
      "<string>:26: SettingWithCopyWarning: \n",
      "A value is trying to be set on a copy of a slice from a DataFrame.\n",
      "Try using .loc[row_indexer,col_indexer] = value instead\n",
      "\n",
      "See the caveats in the documentation: https://pandas.pydata.org/pandas-docs/stable/user_guide/indexing.html#returning-a-view-versus-a-copy\n"
     ]
    },
    {
     "data": {
      "text/plain": [
       "<Figure size 460.8x345.6 with 0 Axes>"
      ]
     },
     "metadata": {},
     "output_type": "display_data"
    }
   ],
   "source": [
    "exec(result.split(\"python\")[1].split('```')[0])"
   ]
  },
  {
   "cell_type": "code",
   "execution_count": 16,
   "metadata": {},
   "outputs": [
    {
     "name": "stderr",
     "output_type": "stream",
     "text": [
      "c:\\SmartCart_MBA\\streamlit_app\\venv\\lib\\site-packages\\langchain_core\\_api\\deprecation.py:117: LangChainDeprecationWarning: The function `__call__` was deprecated in LangChain 0.1.0 and will be removed in 0.2.0. Use invoke instead.\n",
      "  warn_deprecated(\n"
     ]
    },
    {
     "name": "stdout",
     "output_type": "stream",
     "text": [
      "\n",
      "\n",
      "\u001b[1m> Entering new AgentExecutor chain...\u001b[0m\n",
      "\u001b[32;1m\u001b[1;3m\n",
      "Invoking: `python_repl_ast` with `{'query': 'df.shape[0]'}`\n",
      "\n",
      "\n",
      "\u001b[0m\u001b[36;1m\u001b[1;3m536350\u001b[0m\u001b[32;1m\u001b[1;3mThe dataframe has 536,350 rows.\u001b[0m\n",
      "\n",
      "\u001b[1m> Finished chain.\u001b[0m\n"
     ]
    }
   ],
   "source": [
    "output = csv_agent(\"How many rows?\")"
   ]
  },
  {
   "cell_type": "code",
   "execution_count": null,
   "metadata": {},
   "outputs": [],
   "source": []
  },
  {
   "cell_type": "code",
   "execution_count": 19,
   "metadata": {},
   "outputs": [
    {
     "data": {
      "text/plain": [
       "'The dataframe has 536,350 rows.'"
      ]
     },
     "execution_count": 19,
     "metadata": {},
     "output_type": "execute_result"
    }
   ],
   "source": [
    "output['output']"
   ]
  },
  {
   "cell_type": "markdown",
   "metadata": {},
   "source": [
    "## Lets build a fastapi for the above functionality"
   ]
  },
  {
   "cell_type": "code",
   "execution_count": 20,
   "metadata": {},
   "outputs": [],
   "source": [
    "# from typing import Union\n",
    "\n",
    "# from fastapi import FastAPI\n",
    "# from pydantic import BaseModel\n",
    "\n",
    "# class InputQuery(BaseModel):\n",
    "#     query: str\n",
    "\n",
    "# app = FastAPI()\n",
    "\n",
    "# @app.put(\"/csv_agent/\")\n",
    "# def csv_agent_api(query: InputQuery):\n",
    "#     output = csv_agent(query.query)\n",
    "#     return {'Query': query.query, 'Output': output['output']}\n",
    "\n",
    "\n",
    "## Refer csv_agent_api.py file"
   ]
  },
  {
   "cell_type": "code",
   "execution_count": null,
   "metadata": {},
   "outputs": [],
   "source": []
  }
 ],
 "metadata": {
  "kernelspec": {
   "display_name": "venv",
   "language": "python",
   "name": "python3"
  },
  "language_info": {
   "codemirror_mode": {
    "name": "ipython",
    "version": 3
   },
   "file_extension": ".py",
   "mimetype": "text/x-python",
   "name": "python",
   "nbconvert_exporter": "python",
   "pygments_lexer": "ipython3",
   "version": "3.10.8"
  }
 },
 "nbformat": 4,
 "nbformat_minor": 2
}
