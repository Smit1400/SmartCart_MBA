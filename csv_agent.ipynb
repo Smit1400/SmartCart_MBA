{
 "cells": [
  {
   "cell_type": "code",
   "execution_count": 5,
   "metadata": {},
   "outputs": [
    {
     "data": {
      "text/plain": [
       "True"
      ]
     },
     "execution_count": 5,
     "metadata": {},
     "output_type": "execute_result"
    }
   ],
   "source": [
    "import tabulate\n",
    "import operator\n",
    "import os\n",
    "import pandas as pd\n",
    "from langchain.llms import OpenAI\n",
    "from langchain.chat_models import ChatOpenAI\n",
    "from langchain_experimental.agents.agent_toolkits import create_csv_agent\n",
    "from langchain.agents.agent_types import AgentType\n",
    "from dotenv import load_dotenv, dotenv_values \n",
    "\n",
    "load_dotenv()"
   ]
  },
  {
   "cell_type": "code",
   "execution_count": 6,
   "metadata": {},
   "outputs": [],
   "source": [
    "openai_api_key = os.getenv(\"OPENAI_API_KEY\")\n",
    "langchain_api_key = os.getenv(\"LANGCHAIN_API_KEY\")\n",
    "os.environ[\"LANGCHAIN_TRACING_V2\"] = 'true'\n",
    "os.environ[\"LANGCHAIN_ENDPOINT\"] = \"https://api.smith.langchain.com\"\n",
    "os.environ[\"LANGCHAIN_API_KEY\"] = langchain_api_key\n",
    "os.environ[\"LANGCHAIN_PROJECT\"] =\"multi-agent\"\n",
    "os.environ['OPENAI_API_KEY'] = openai_api_key"
   ]
  },
  {
   "cell_type": "code",
   "execution_count": 8,
   "metadata": {},
   "outputs": [
    {
     "name": "stderr",
     "output_type": "stream",
     "text": [
      "c:\\SmartCart_MBA\\streamlit_app\\venv\\lib\\site-packages\\langchain_experimental\\agents\\agent_toolkits\\pandas\\base.py:242: UserWarning: Received additional kwargs {'stop': ['\\nObservation:'], 'handle_parsing_errors': True} which are no longer supported.\n",
      "  warnings.warn(\n"
     ]
    },
    {
     "name": "stdout",
     "output_type": "stream",
     "text": [
      "\n",
      "\n",
      "\u001b[1m> Entering new AgentExecutor chain...\u001b[0m\n",
      "\u001b[32;1m\u001b[1;3m\n",
      "Invoking: `python_repl_ast` with `{'query': \"df['Country'].nunique()\"}`\n",
      "\n",
      "\n",
      "\u001b[0m\u001b[36;1m\u001b[1;3m38\u001b[0m\u001b[32;1m\u001b[1;3mThere are 38 different countries in the dataframe.\u001b[0m\n",
      "\n",
      "\u001b[1m> Finished chain.\u001b[0m\n"
     ]
    },
    {
     "data": {
      "text/plain": [
       "'There are 38 different countries in the dataframe.'"
      ]
     },
     "execution_count": 8,
     "metadata": {},
     "output_type": "execute_result"
    }
   ],
   "source": [
    "file_path= 'data.csv'\n",
    "\n",
    "csv_agent= create_csv_agent(\n",
    "        ChatOpenAI(temperature=0, model=\"gpt-4\"),\n",
    "        file_path, \n",
    "        verbose=True,\n",
    "        stop=[\"\\nObservation:\"],\n",
    "        agent_type=AgentType.OPENAI_FUNCTIONS,\n",
    "        handle_parsing_errors=True\n",
    "    )\n",
    "    \n",
    "csv_agent.run(\"how mant diffrent countries are there? \")"
   ]
  },
  {
   "cell_type": "code",
   "execution_count": 11,
   "metadata": {},
   "outputs": [
    {
     "name": "stdout",
     "output_type": "stream",
     "text": [
      "\n",
      "\n",
      "\u001b[1m> Entering new AgentExecutor chain...\u001b[0m\n",
      "\u001b[32;1m\u001b[1;3m\n",
      "Invoking: `python_repl_ast` with `{'query': \"df['Revenue'] = df['Price'] * df['Quantity']\"}`\n",
      "responded: To find out which product generates more revenue, we need to create a new column in the dataframe that represents the total revenue for each transaction. This can be calculated by multiplying the Price and Quantity columns. Then, we can group by the ProductName and sum the revenue, sorting in descending order to find the product that generates the most revenue.\n",
      "\n",
      "Let's do this in steps. First, let's create the new column 'Revenue'.\n",
      "\n",
      "\u001b[0m\u001b[36;1m\u001b[1;3m\u001b[0m\u001b[32;1m\u001b[1;3m\n",
      "Invoking: `python_repl_ast` with `{'query': \"df.groupby('ProductName')['Revenue'].sum().sort_values(ascending=False).head(1)\"}`\n",
      "responded: Now that we have the 'Revenue' column, let's group by 'ProductName' and sum the 'Revenue', then sort in descending order to find the product that generates the most revenue.\n",
      "\n",
      "\u001b[0m\u001b[36;1m\u001b[1;3mProductName\n",
      "Popcorn Holder    583286.51\n",
      "Name: Revenue, dtype: float64\u001b[0m\u001b[32;1m\u001b[1;3mThe product that generates the most revenue is the 'Popcorn Holder' with a total revenue of 583286.51.\u001b[0m\n",
      "\n",
      "\u001b[1m> Finished chain.\u001b[0m\n"
     ]
    },
    {
     "data": {
      "text/plain": [
       "\"The product that generates the most revenue is the 'Popcorn Holder' with a total revenue of 583286.51.\""
      ]
     },
     "execution_count": 11,
     "metadata": {},
     "output_type": "execute_result"
    }
   ],
   "source": [
    "csv_agent.run(\"Which product generates more revenue?\")\n"
   ]
  },
  {
   "cell_type": "code",
   "execution_count": null,
   "metadata": {},
   "outputs": [],
   "source": []
  }
 ],
 "metadata": {
  "kernelspec": {
   "display_name": "venv",
   "language": "python",
   "name": "python3"
  },
  "language_info": {
   "codemirror_mode": {
    "name": "ipython",
    "version": 3
   },
   "file_extension": ".py",
   "mimetype": "text/x-python",
   "name": "python",
   "nbconvert_exporter": "python",
   "pygments_lexer": "ipython3",
   "version": "3.10.8"
  }
 },
 "nbformat": 4,
 "nbformat_minor": 2
}
