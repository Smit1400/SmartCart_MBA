{
 "cells": [
  {
   "cell_type": "code",
   "execution_count": 5,
   "metadata": {},
   "outputs": [
    {
     "data": {
      "text/plain": [
       "True"
      ]
     },
     "execution_count": 5,
     "metadata": {},
     "output_type": "execute_result"
    }
   ],
   "source": [
    "import tabulate\n",
    "import operator\n",
    "import os\n",
    "import pandas as pd\n",
    "from langchain.llms import OpenAI\n",
    "from langchain.chat_models import ChatOpenAI\n",
    "from langchain_experimental.agents.agent_toolkits import create_csv_agent\n",
    "from langchain.agents.agent_types import AgentType\n",
    "from dotenv import load_dotenv, dotenv_values \n",
    "\n",
    "load_dotenv()"
   ]
  },
  {
   "cell_type": "code",
   "execution_count": 6,
   "metadata": {},
   "outputs": [],
   "source": [
    "openai_api_key = os.getenv(\"OPENAI_API_KEY\")\n",
    "langchain_api_key = os.getenv(\"LANGCHAIN_API_KEY\")\n",
    "os.environ[\"LANGCHAIN_TRACING_V2\"] = 'true'\n",
    "os.environ[\"LANGCHAIN_ENDPOINT\"] = \"https://api.smith.langchain.com\"\n",
    "os.environ[\"LANGCHAIN_API_KEY\"] = langchain_api_key\n",
    "os.environ[\"LANGCHAIN_PROJECT\"] =\"multi-agent\"\n",
    "os.environ['OPENAI_API_KEY'] = openai_api_key"
   ]
  },
  {
   "cell_type": "code",
   "execution_count": 8,
   "metadata": {},
   "outputs": [
    {
     "name": "stderr",
     "output_type": "stream",
     "text": [
      "c:\\SmartCart_MBA\\streamlit_app\\venv\\lib\\site-packages\\langchain_experimental\\agents\\agent_toolkits\\pandas\\base.py:242: UserWarning: Received additional kwargs {'stop': ['\\nObservation:'], 'handle_parsing_errors': True} which are no longer supported.\n",
      "  warnings.warn(\n"
     ]
    },
    {
     "name": "stdout",
     "output_type": "stream",
     "text": [
      "\n",
      "\n",
      "\u001b[1m> Entering new AgentExecutor chain...\u001b[0m\n",
      "\u001b[32;1m\u001b[1;3m\n",
      "Invoking: `python_repl_ast` with `{'query': \"df['Country'].nunique()\"}`\n",
      "\n",
      "\n",
      "\u001b[0m\u001b[36;1m\u001b[1;3m38\u001b[0m\u001b[32;1m\u001b[1;3mThere are 38 different countries in the dataframe.\u001b[0m\n",
      "\n",
      "\u001b[1m> Finished chain.\u001b[0m\n"
     ]
    },
    {
     "data": {
      "text/plain": [
       "'There are 38 different countries in the dataframe.'"
      ]
     },
     "execution_count": 8,
     "metadata": {},
     "output_type": "execute_result"
    }
   ],
   "source": [
    "file_path= 'data.csv'\n",
    "\n",
    "csv_agent= create_csv_agent(\n",
    "        ChatOpenAI(temperature=0, model=\"gpt-4\"),\n",
    "        file_path, \n",
    "        verbose=True,\n",
    "        stop=[\"\\nObservation:\"],\n",
    "        agent_type=AgentType.OPENAI_FUNCTIONS,\n",
    "        handle_parsing_errors=True\n",
    "    )\n",
    "    \n",
    "csv_agent.run(\"how mant diffrent countries are there? \")"
   ]
  },
  {
   "cell_type": "code",
   "execution_count": 11,
   "metadata": {},
   "outputs": [
    {
     "name": "stdout",
     "output_type": "stream",
     "text": [
      "\n",
      "\n",
      "\u001b[1m> Entering new AgentExecutor chain...\u001b[0m\n",
      "\u001b[32;1m\u001b[1;3m\n",
      "Invoking: `python_repl_ast` with `{'query': \"df['Revenue'] = df['Price'] * df['Quantity']\"}`\n",
      "responded: To find out which product generates more revenue, we need to create a new column in the dataframe that represents the total revenue for each transaction. This can be calculated by multiplying the Price and Quantity columns. Then, we can group by the ProductName and sum the revenue, sorting in descending order to find the product that generates the most revenue.\n",
      "\n",
      "Let's do this in steps. First, let's create the new column 'Revenue'.\n",
      "\n",
      "\u001b[0m\u001b[36;1m\u001b[1;3m\u001b[0m\u001b[32;1m\u001b[1;3m\n",
      "Invoking: `python_repl_ast` with `{'query': \"df.groupby('ProductName')['Revenue'].sum().sort_values(ascending=False).head(1)\"}`\n",
      "responded: Now that we have the 'Revenue' column, let's group by 'ProductName' and sum the 'Revenue', then sort in descending order to find the product that generates the most revenue.\n",
      "\n",
      "\u001b[0m\u001b[36;1m\u001b[1;3mProductName\n",
      "Popcorn Holder    583286.51\n",
      "Name: Revenue, dtype: float64\u001b[0m\u001b[32;1m\u001b[1;3mThe product that generates the most revenue is the 'Popcorn Holder' with a total revenue of 583286.51.\u001b[0m\n",
      "\n",
      "\u001b[1m> Finished chain.\u001b[0m\n"
     ]
    },
    {
     "data": {
      "text/plain": [
       "\"The product that generates the most revenue is the 'Popcorn Holder' with a total revenue of 583286.51.\""
      ]
     },
     "execution_count": 11,
     "metadata": {},
     "output_type": "execute_result"
    }
   ],
   "source": [
    "csv_agent.run(\"Which product generates more revenue?\")\n"
   ]
  },
  {
   "cell_type": "code",
   "execution_count": 12,
   "metadata": {},
   "outputs": [],
   "source": [
    "question = \"Give me the user id and other details of the custmer who spent the most\"\n",
    "\n",
    "propmt = \"\"\" You are a question-answering bot over the data you queried from dataframes.\n",
    "           Give responses to the question on the end of the text :\n",
    "            \n",
    "            \n",
    "            Given a dataset from an e-commerce platform detailing sales transactions over a year, analyze the data to understand consumer behavior and sales patterns. This dataset originates from a UK-based online retail shop specializing in gifts and homewares for both adults and children, operating since 2007. With customers worldwide, the business model includes direct consumer sales and bulk purchases by small businesses for resale.\n",
    "\n",
    "            Dataset Description:\n",
    "\n",
    "            - TransactionNo (categorical): A unique six-digit number for each transaction. Transactions beginning with \"C\" denote cancellations.\n",
    "            - Date (numeric): The date of each transaction.\n",
    "            - ProductNo (categorical): A unique identifier for each product, consisting of five or six digits.\n",
    "            - Product (categorical): The name of the product/item.\n",
    "            - Price (numeric): The price per unit of each product in pound sterling (£).\n",
    "            - Quantity (numeric): The number of units per product in each transaction. Negative quantities indicate cancelled transactions.\n",
    "            - CustomerNo (categorical): A unique five-digit number identifying each customer.\n",
    "            - Country (categorical): The customer's country of residence.\n",
    "\n",
    "            A notable aspect of this dataset is the presence of order cancellations, often due to products being out of stock. Customers generally prefer all items in their order to be delivered simultaneously, leading to cancellations when this isn't possible.\n",
    "\n",
    "            \n",
    "            Below is the question\n",
    "            Question:\"\"\"  + question"
   ]
  },
  {
   "cell_type": "code",
   "execution_count": 15,
   "metadata": {},
   "outputs": [
    {
     "name": "stdout",
     "output_type": "stream",
     "text": [
      "\n",
      "\n",
      "\u001b[1m> Entering new AgentExecutor chain...\u001b[0m\n",
      "\u001b[32;1m\u001b[1;3m\n",
      "Invoking: `python_repl_ast` with `{'query': \"df['TotalSpent'] = df['Price'] * df['Quantity']\\ndf.groupby('CustomerNo')['TotalSpent'].sum().idxmax()\"}`\n",
      "\n",
      "\n",
      "\u001b[0m\u001b[36;1m\u001b[1;3m14646.0\u001b[0m\u001b[32;1m\u001b[1;3m\n",
      "Invoking: `python_repl_ast` with `{'query': \"df[df['CustomerNo'] == 14646]\"}`\n",
      "\n",
      "\n",
      "\u001b[0m\u001b[36;1m\u001b[1;3m       TransactionNo        Date ProductNo                        ProductName  \\\n",
      "4024          581338   12/8/2019     23344           Jumbo Bag 50'S Christmas   \n",
      "8486          581175   12/7/2019     22973       Children's Circus Parade Mug   \n",
      "8487          581175   12/7/2019     23280  Folding Butterfly Mirror Hot Pink   \n",
      "8488          581175   12/7/2019     23281       Folding Butterfly Mirror Red   \n",
      "8489          581175   12/7/2019     23498              Classic Bicycle Clips   \n",
      "...              ...         ...       ...                                ...   \n",
      "497157        539491  12/20/2018    47599A                    Pink Party Bags   \n",
      "497158        539491  12/20/2018     22331   Woodland Party Bag + Sticker Set   \n",
      "497159        539491  12/20/2018     22333  Retrospot Party Bag + Sticker Set   \n",
      "497160        539491  12/20/2018     22315       200 Red + White Bendy Straws   \n",
      "497161        539491  12/20/2018     22445      Pencil Case Life Is Beautiful   \n",
      "\n",
      "        Price  Quantity  CustomerNo      Country  Revenue  TotalSpent  \n",
      "4024     6.04       140     14646.0  Netherlands   845.60      845.60  \n",
      "8486     6.19        48     14646.0  Netherlands   297.12      297.12  \n",
      "8487     6.04        96     14646.0  Netherlands   579.84      579.84  \n",
      "8488     6.04        96     14646.0  Netherlands   579.84      579.84  \n",
      "8489     6.04        72     14646.0  Netherlands   434.88      434.88  \n",
      "...       ...       ...         ...          ...      ...         ...  \n",
      "497157  12.40         2     14646.0  Netherlands    24.80       24.80  \n",
      "497158  11.94         2     14646.0  Netherlands    23.88       23.88  \n",
      "497159  11.94         2     14646.0  Netherlands    23.88       23.88  \n",
      "497160  11.53         1     14646.0  Netherlands    11.53       11.53  \n",
      "497161  13.27         1     14646.0  Netherlands    13.27       13.27  \n",
      "\n",
      "[2066 rows x 10 columns]\u001b[0m\u001b[32;1m\u001b[1;3mThe customer who spent the most is the one with the CustomerNo 14646. This customer is from the Netherlands. They have made 2066 transactions. Some of the products they have purchased include 'Jumbo Bag 50'S Christmas', 'Children's Circus Parade Mug', 'Folding Butterfly Mirror Hot Pink', 'Folding Butterfly Mirror Red', and 'Classic Bicycle Clips'.\u001b[0m\n",
      "\n",
      "\u001b[1m> Finished chain.\u001b[0m\n"
     ]
    },
    {
     "data": {
      "text/plain": [
       "\"The customer who spent the most is the one with the CustomerNo 14646. This customer is from the Netherlands. They have made 2066 transactions. Some of the products they have purchased include 'Jumbo Bag 50'S Christmas', 'Children's Circus Parade Mug', 'Folding Butterfly Mirror Hot Pink', 'Folding Butterfly Mirror Red', and 'Classic Bicycle Clips'.\""
      ]
     },
     "execution_count": 15,
     "metadata": {},
     "output_type": "execute_result"
    }
   ],
   "source": [
    "csv_agent.run(propmt)"
   ]
  },
  {
   "cell_type": "code",
   "execution_count": 16,
   "metadata": {},
   "outputs": [
    {
     "name": "stderr",
     "output_type": "stream",
     "text": [
      "c:\\SmartCart_MBA\\streamlit_app\\venv\\lib\\site-packages\\langchain_core\\_api\\deprecation.py:117: LangChainDeprecationWarning: The function `__call__` was deprecated in LangChain 0.1.0 and will be removed in 0.2.0. Use invoke instead.\n",
      "  warn_deprecated(\n"
     ]
    },
    {
     "name": "stdout",
     "output_type": "stream",
     "text": [
      "\n",
      "\n",
      "\u001b[1m> Entering new AgentExecutor chain...\u001b[0m\n",
      "\u001b[32;1m\u001b[1;3m\n",
      "Invoking: `python_repl_ast` with `{'query': 'df.shape[0]'}`\n",
      "\n",
      "\n",
      "\u001b[0m\u001b[36;1m\u001b[1;3m536350\u001b[0m\u001b[32;1m\u001b[1;3mThe dataframe has 536,350 rows.\u001b[0m\n",
      "\n",
      "\u001b[1m> Finished chain.\u001b[0m\n"
     ]
    }
   ],
   "source": [
    "output = csv_agent(\"How many rows?\")"
   ]
  },
  {
   "cell_type": "code",
   "execution_count": 19,
   "metadata": {},
   "outputs": [
    {
     "data": {
      "text/plain": [
       "'The dataframe has 536,350 rows.'"
      ]
     },
     "execution_count": 19,
     "metadata": {},
     "output_type": "execute_result"
    }
   ],
   "source": [
    "output['output']"
   ]
  },
  {
   "cell_type": "markdown",
   "metadata": {},
   "source": [
    "## Lets build a fastapi for the above functionality"
   ]
  },
  {
   "cell_type": "code",
   "execution_count": 20,
   "metadata": {},
   "outputs": [],
   "source": [
    "# from typing import Union\n",
    "\n",
    "# from fastapi import FastAPI\n",
    "# from pydantic import BaseModel\n",
    "\n",
    "# class InputQuery(BaseModel):\n",
    "#     query: str\n",
    "\n",
    "# app = FastAPI()\n",
    "\n",
    "# @app.put(\"/csv_agent/\")\n",
    "# def csv_agent_api(query: InputQuery):\n",
    "#     output = csv_agent(query.query)\n",
    "#     return {'Query': query.query, 'Output': output['output']}\n",
    "\n",
    "\n",
    "## Refer csv_agent_api.py file"
   ]
  },
  {
   "cell_type": "code",
   "execution_count": null,
   "metadata": {},
   "outputs": [],
   "source": []
  }
 ],
 "metadata": {
  "kernelspec": {
   "display_name": "venv",
   "language": "python",
   "name": "python3"
  },
  "language_info": {
   "codemirror_mode": {
    "name": "ipython",
    "version": 3
   },
   "file_extension": ".py",
   "mimetype": "text/x-python",
   "name": "python",
   "nbconvert_exporter": "python",
   "pygments_lexer": "ipython3",
   "version": "3.10.8"
  }
 },
 "nbformat": 4,
 "nbformat_minor": 2
}
