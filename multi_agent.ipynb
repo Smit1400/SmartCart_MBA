{
 "cells": [
  {
   "cell_type": "code",
   "execution_count": 1,
   "metadata": {},
   "outputs": [
    {
     "data": {
      "text/plain": [
       "True"
      ]
     },
     "execution_count": 1,
     "metadata": {},
     "output_type": "execute_result"
    }
   ],
   "source": [
    "import streamlit as st\n",
    "import os\n",
    "from langchain.tools import DuckDuckGoSearchRun\n",
    "from langchain import hub\n",
    "from langchain.agents import create_openai_functions_agent\n",
    "from langchain_openai import ChatOpenAI\n",
    "from langgraph.prebuilt import create_agent_executor\n",
    "from langchain_core.pydantic_v1 import BaseModel\n",
    "from langchain.chains.openai_functions import create_structured_output_runnable\n",
    "from langchain_core.prompts import ChatPromptTemplate\n",
    "from langchain_core.pydantic_v1 import BaseModel, Field\n",
    "from typing import Annotated, Any, Dict, Optional, Sequence, TypedDict, List, Tuple\n",
    "from dotenv import load_dotenv, dotenv_values \n",
    "import operator\n",
    "\n",
    "load_dotenv()"
   ]
  },
  {
   "cell_type": "code",
   "execution_count": 2,
   "metadata": {},
   "outputs": [],
   "source": [
    "langchain_api_key = os.getenv(\"OPENAI_API_KEY\")\n",
    "os.environ[\"LANGCHAIN_TRACING_V2\"] = 'true'\n",
    "os.environ[\"LANGCHAIN_ENDPOINT\"] = \"https://api.smith.langchain.com\"\n",
    "os.environ[\"LANGCHAIN_API_KEY\"] = langchain_api_key\n",
    "os.environ[\"LANGCHAIN_PROJECT\"] =\"multi-agent\"\n",
    "os.environ['OPENAI_API_KEY'] = langchain_api_key"
   ]
  },
  {
   "cell_type": "code",
   "execution_count": 3,
   "metadata": {},
   "outputs": [],
   "source": [
    "llm = ChatOpenAI(temperature=0, \n",
    "                          max_tokens=1024,\n",
    "    model_name=\"gpt-3.5-turbo-0125\")"
   ]
  },
  {
   "cell_type": "code",
   "execution_count": 4,
   "metadata": {},
   "outputs": [],
   "source": [
    "class DataScraper(BaseModel):\n",
    "    \"\"\"This Class is for Data Scraping\"\"\"\n",
    "    \n",
    "    code: str = Field(\n",
    "        description = \"Generate code based on the provided requirements\"\n",
    "    )\n",
    "    \n",
    "from langchain.chains.openai_functions import create_structured_output_runnable\n",
    "from langchain_core.prompts import ChatPromptTemplate\n",
    "\n",
    "data_scrape_prompt = ChatPromptTemplate.from_template(\n",
    "    '''**Role**: You are an expert Python programmer with a focus on data manipulation and analysis. Your expertise extends to handling and processing data from various formats, including CSV files.\n",
    "\n",
    "**Task**: Your task is to develop Python code that reads data from a CSV file located at './data.csv'. After reading the data, you must process it according to specific requirements to return a subset of the DataFrame. This task may involve filtering, aggregating, transforming, or any other form of data manipulation to achieve the desired output.\n",
    "\n",
    "**Instructions**:\n",
    "1. **Understand and Clarify**: Ensure you fully understand the requirement, including the structure of the data and the specific subset or transformation needed.\n",
    "2. **Algorithm/Method Selection**: Choose the most efficient methods for reading the CSV file and processing the data. Consider using libraries such as pandas for efficient data manipulation.\n",
    "3. **Pseudocode Creation**: Write down the steps to read the data from the CSV file, apply the necessary processing, and extract the required subset. This includes loading the data, inspecting its structure, applying specified transformations or filters, and selecting the relevant data to return.\n",
    "4. **Code Generation**: Translate your pseudocode into executable Python code. Your code should be efficient, readable, and well-commented. Ensure to include necessary imports, read the CSV file into a DataFrame, perform the required data processing, and output the subset of data as text.\n",
    "\n",
    "*REQUIREMENT*\n",
    "{requirement}'''\n",
    "\n",
    ")\n",
    "\n",
    "coder = create_structured_output_runnable(\n",
    "    DataScraper, llm, data_scrape_prompt\n",
    ")"
   ]
  },
  {
   "cell_type": "code",
   "execution_count": 5,
   "metadata": {},
   "outputs": [
    {
     "name": "stderr",
     "output_type": "stream",
     "text": [
      "Failed to batch ingest runs: LangSmithAuthError('Authentication failed for https://api.smith.langchain.com/runs/batch. HTTPError(\\'401 Client Error: Unauthorized for url: https://api.smith.langchain.com/runs/batch\\', \\'{\"detail\":\"Invalid API key\"}\\')')\n"
     ]
    },
    {
     "name": "stderr",
     "output_type": "stream",
     "text": [
      "Failed to batch ingest runs: LangSmithAuthError('Authentication failed for https://api.smith.langchain.com/runs/batch. HTTPError(\\'401 Client Error: Unauthorized for url: https://api.smith.langchain.com/runs/batch\\', \\'{\"detail\":\"Invalid API key\"}\\')')\n"
     ]
    }
   ],
   "source": [
    "code_ = coder.invoke({'requirement': 'Get me all the data for the country of germany'})"
   ]
  },
  {
   "cell_type": "code",
   "execution_count": 6,
   "metadata": {},
   "outputs": [
    {
     "name": "stdout",
     "output_type": "stream",
     "text": [
      "import pandas as pd\n",
      "\n",
      "# Read the CSV file\n",
      "data = pd.read_csv('./data.csv')\n",
      "\n",
      "# Filter data for the country of Germany\n",
      "germany_data = data[data['Country'] == 'Germany']\n",
      "\n",
      "# Display the subset of data\n",
      "print(germany_data)\n"
     ]
    }
   ],
   "source": [
    "print(code_.code)"
   ]
  },
  {
   "cell_type": "code",
   "execution_count": 7,
   "metadata": {},
   "outputs": [],
   "source": [
    "from io import StringIO\n",
    "import sys\n",
    "tmp = sys.stdout\n",
    "my_result = StringIO()\n",
    "sys.stdout = my_result\n",
    "exec(code_.code)\n",
    "sys.stdout = tmp"
   ]
  },
  {
   "cell_type": "code",
   "execution_count": 8,
   "metadata": {},
   "outputs": [
    {
     "name": "stdout",
     "output_type": "stream",
     "text": [
      "       TransactionNo       Date ProductNo                        ProductName  \\\n",
      "914           581494  12/9/2019     23084                 Rabbit Night Light   \n",
      "915           581494  12/9/2019     21559  Strawberry Lunch Box With Cutlery   \n",
      "916           581494  12/9/2019     21506           Fancy Font Birthday Card   \n",
      "917           581494  12/9/2019     22716                 Card Circus Parade   \n",
      "918           581494  12/9/2019     22556      Plasters In Tin Circus Parade   \n",
      "...              ...        ...       ...                                ...   \n",
      "536345       C536548  12/1/2018     22168       Organiser Wood Antique White   \n",
      "536346       C536548  12/1/2018     21218             Red Spotty Biscuit Tin   \n",
      "536347       C536548  12/1/2018     20957       Porcelain Hanging Bell Small   \n",
      "536348       C536548  12/1/2018     22580       Advent Calendar Gingham Sack   \n",
      "536349       C536548  12/1/2018     22767         Triple Photo Frame Cornice   \n",
      "\n",
      "        Price  Quantity  CustomerNo  Country  \n",
      "914      6.19        24     12518.0  Germany  \n",
      "915      6.19         6     12518.0  Germany  \n",
      "916      6.19        12     12518.0  Germany  \n",
      "917      6.19        12     12518.0  Germany  \n",
      "918      6.19        12     12518.0  Germany  \n",
      "...       ...       ...         ...      ...  \n",
      "536345  18.96        -2     12472.0  Germany  \n",
      "536346  14.09        -3     12472.0  Germany  \n",
      "536347  11.74        -1     12472.0  Germany  \n",
      "536348  16.35        -4     12472.0  Germany  \n",
      "536349  20.45        -2     12472.0  Germany  \n",
      "\n",
      "[10675 rows x 8 columns]\n",
      "\n"
     ]
    }
   ],
   "source": [
    "print(my_result.getvalue())"
   ]
  },
  {
   "cell_type": "code",
   "execution_count": 9,
   "metadata": {},
   "outputs": [
    {
     "data": {
      "text/plain": [
       "str"
      ]
     },
     "execution_count": 9,
     "metadata": {},
     "output_type": "execute_result"
    }
   ],
   "source": []
  },
  {
   "cell_type": "code",
   "execution_count": null,
   "metadata": {},
   "outputs": [],
   "source": []
  }
 ],
 "metadata": {
  "kernelspec": {
   "display_name": "venv",
   "language": "python",
   "name": "python3"
  },
  "language_info": {
   "codemirror_mode": {
    "name": "ipython",
    "version": 3
   },
   "file_extension": ".py",
   "mimetype": "text/x-python",
   "name": "python",
   "nbconvert_exporter": "python",
   "pygments_lexer": "ipython3",
   "version": "3.10.8"
  }
 },
 "nbformat": 4,
 "nbformat_minor": 2
}
