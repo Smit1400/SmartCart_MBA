{
 "cells": [
  {
   "cell_type": "code",
   "execution_count": 1,
   "metadata": {},
   "outputs": [
    {
     "data": {
      "text/plain": [
       "True"
      ]
     },
     "execution_count": 1,
     "metadata": {},
     "output_type": "execute_result"
    }
   ],
   "source": [
    "import streamlit as st\n",
    "import os\n",
    "from langchain.tools import DuckDuckGoSearchRun\n",
    "from langchain import hub\n",
    "from langchain.agents import create_openai_functions_agent\n",
    "from langchain_openai import ChatOpenAI\n",
    "from langgraph.prebuilt import create_agent_executor\n",
    "from langchain_core.pydantic_v1 import BaseModel\n",
    "from langchain.chains.openai_functions import create_structured_output_runnable\n",
    "from langchain_core.prompts import ChatPromptTemplate\n",
    "from langchain_core.pydantic_v1 import BaseModel, Field\n",
    "from typing import Annotated, Any, Dict, Optional, Sequence, TypedDict, List, Tuple\n",
    "from dotenv import load_dotenv, dotenv_values \n",
    "import operator\n",
    "\n",
    "load_dotenv()"
   ]
  },
  {
   "cell_type": "code",
   "execution_count": 2,
   "metadata": {},
   "outputs": [],
   "source": [
    "langchain_api_key = os.getenv(\"OPENAI_API_KEY\")\n",
    "os.environ[\"LANGCHAIN_TRACING_V2\"] = 'true'\n",
    "os.environ[\"LANGCHAIN_ENDPOINT\"] = \"https://api.smith.langchain.com\"\n",
    "os.environ[\"LANGCHAIN_API_KEY\"] = langchain_api_key\n",
    "os.environ[\"LANGCHAIN_PROJECT\"] =\"multi-agent\"\n",
    "os.environ['OPENAI_API_KEY'] = langchain_api_key"
   ]
  },
  {
   "cell_type": "code",
   "execution_count": 30,
   "metadata": {},
   "outputs": [],
   "source": [
    "llm = ChatOpenAI(temperature=0, \n",
    "                          max_tokens=1024,\n",
    "    model_name=\"gpt-4\")"
   ]
  },
  {
   "cell_type": "code",
   "execution_count": 4,
   "metadata": {},
   "outputs": [],
   "source": [
    "class DataScraper(BaseModel):\n",
    "    \"\"\"This Class is for Data Scraping\"\"\"\n",
    "    \n",
    "    code: str = Field(\n",
    "        description = \"Generate code based on the provided requirements\"\n",
    "    )\n",
    "    \n",
    "from langchain.chains.openai_functions import create_structured_output_runnable\n",
    "from langchain_core.prompts import ChatPromptTemplate\n",
    "\n",
    "data_scrape_prompt = ChatPromptTemplate.from_template(\n",
    "    '''**Role**: You are an expert Python programmer with a focus on data manipulation and analysis. Your expertise extends to handling and processing data from various formats, including CSV files.\n",
    "\n",
    "**Task**: Your task is to develop Python code that reads data from a CSV file located at './data.csv'. After reading the data, you must process it according to specific requirements to return a subset of the DataFrame. This task may involve filtering, aggregating, transforming, or any other form of data manipulation to achieve the desired output.\n",
    "\n",
    "**Instructions**:\n",
    "1. **Understand and Clarify**: Ensure you fully understand the requirement, including the structure of the data and the specific subset or transformation needed.\n",
    "2. **Algorithm/Method Selection**: Choose the most efficient methods for reading the CSV file and processing the data. Consider using libraries such as pandas for efficient data manipulation.\n",
    "3. **Pseudocode Creation**: Write down the steps to read the data from the CSV file, apply the necessary processing, and extract the required subset. This includes loading the data, inspecting its structure, applying specified transformations or filters, and selecting the relevant data to return.\n",
    "4. **Code Generation**: Translate your pseudocode into executable Python code. Your code should be efficient, readable, and well-commented. Ensure to include necessary imports, read the CSV file into a DataFrame, perform the required data processing, and output the subset of data as text.\n",
    "\n",
    "*REQUIREMENT*\n",
    "{requirement}'''\n",
    "\n",
    ")\n",
    "\n",
    "coder = create_structured_output_runnable(\n",
    "    DataScraper, llm, data_scrape_prompt\n",
    ")"
   ]
  },
  {
   "cell_type": "code",
   "execution_count": 5,
   "metadata": {},
   "outputs": [
    {
     "name": "stderr",
     "output_type": "stream",
     "text": [
      "Failed to batch ingest runs: LangSmithAuthError('Authentication failed for https://api.smith.langchain.com/runs/batch. HTTPError(\\'401 Client Error: Unauthorized for url: https://api.smith.langchain.com/runs/batch\\', \\'{\"detail\":\"Invalid API key\"}\\')')\n"
     ]
    },
    {
     "name": "stderr",
     "output_type": "stream",
     "text": [
      "Failed to batch ingest runs: LangSmithAuthError('Authentication failed for https://api.smith.langchain.com/runs/batch. HTTPError(\\'401 Client Error: Unauthorized for url: https://api.smith.langchain.com/runs/batch\\', \\'{\"detail\":\"Invalid API key\"}\\')')\n",
      "Failed to batch ingest runs: LangSmithAuthError('Authentication failed for https://api.smith.langchain.com/runs/batch. HTTPError(\\'401 Client Error: Unauthorized for url: https://api.smith.langchain.com/runs/batch\\', \\'{\"detail\":\"Invalid API key\"}\\')')\n",
      "Failed to batch ingest runs: LangSmithAuthError('Authentication failed for https://api.smith.langchain.com/runs/batch. HTTPError(\\'401 Client Error: Unauthorized for url: https://api.smith.langchain.com/runs/batch\\', \\'{\"detail\":\"Invalid API key\"}\\')')\n",
      "Failed to batch ingest runs: LangSmithAuthError('Authentication failed for https://api.smith.langchain.com/runs/batch. HTTPError(\\'401 Client Error: Unauthorized for url: https://api.smith.langchain.com/runs/batch\\', \\'{\"detail\":\"Invalid API key\"}\\')')\n",
      "Failed to batch ingest runs: LangSmithAuthError('Authentication failed for https://api.smith.langchain.com/runs/batch. HTTPError(\\'401 Client Error: Unauthorized for url: https://api.smith.langchain.com/runs/batch\\', \\'{\"detail\":\"Invalid API key\"}\\')')\n",
      "Failed to batch ingest runs: LangSmithAuthError('Authentication failed for https://api.smith.langchain.com/runs/batch. HTTPError(\\'401 Client Error: Unauthorized for url: https://api.smith.langchain.com/runs/batch\\', \\'{\"detail\":\"Invalid API key\"}\\')')\n",
      "Failed to batch ingest runs: LangSmithAuthError('Authentication failed for https://api.smith.langchain.com/runs/batch. HTTPError(\\'401 Client Error: Unauthorized for url: https://api.smith.langchain.com/runs/batch\\', \\'{\"detail\":\"Invalid API key\"}\\')')\n",
      "Failed to batch ingest runs: LangSmithAuthError('Authentication failed for https://api.smith.langchain.com/runs/batch. HTTPError(\\'401 Client Error: Unauthorized for url: https://api.smith.langchain.com/runs/batch\\', \\'{\"detail\":\"Invalid API key\"}\\')')\n",
      "Failed to batch ingest runs: LangSmithAuthError('Authentication failed for https://api.smith.langchain.com/runs/batch. HTTPError(\\'401 Client Error: Unauthorized for url: https://api.smith.langchain.com/runs/batch\\', \\'{\"detail\":\"Invalid API key\"}\\')')\n",
      "Failed to batch ingest runs: LangSmithAuthError('Authentication failed for https://api.smith.langchain.com/runs/batch. HTTPError(\\'401 Client Error: Unauthorized for url: https://api.smith.langchain.com/runs/batch\\', \\'{\"detail\":\"Invalid API key\"}\\')')\n",
      "Failed to batch ingest runs: LangSmithAuthError('Authentication failed for https://api.smith.langchain.com/runs/batch. HTTPError(\\'401 Client Error: Unauthorized for url: https://api.smith.langchain.com/runs/batch\\', \\'{\"detail\":\"Invalid API key\"}\\')')\n",
      "Failed to batch ingest runs: LangSmithAuthError('Authentication failed for https://api.smith.langchain.com/runs/batch. HTTPError(\\'401 Client Error: Unauthorized for url: https://api.smith.langchain.com/runs/batch\\', \\'{\"detail\":\"Invalid API key\"}\\')')\n",
      "Failed to batch ingest runs: LangSmithAuthError('Authentication failed for https://api.smith.langchain.com/runs/batch. HTTPError(\\'401 Client Error: Unauthorized for url: https://api.smith.langchain.com/runs/batch\\', \\'{\"detail\":\"Invalid API key\"}\\')')\n",
      "Failed to batch ingest runs: LangSmithAuthError('Authentication failed for https://api.smith.langchain.com/runs/batch. HTTPError(\\'401 Client Error: Unauthorized for url: https://api.smith.langchain.com/runs/batch\\', \\'{\"detail\":\"Invalid API key\"}\\')')\n",
      "Failed to batch ingest runs: LangSmithAuthError('Authentication failed for https://api.smith.langchain.com/runs/batch. HTTPError(\\'401 Client Error: Unauthorized for url: https://api.smith.langchain.com/runs/batch\\', \\'{\"detail\":\"Invalid API key\"}\\')')\n",
      "Failed to batch ingest runs: LangSmithAuthError('Authentication failed for https://api.smith.langchain.com/runs/batch. HTTPError(\\'401 Client Error: Unauthorized for url: https://api.smith.langchain.com/runs/batch\\', \\'{\"detail\":\"Invalid API key\"}\\')')\n",
      "Failed to batch ingest runs: LangSmithAuthError('Authentication failed for https://api.smith.langchain.com/runs/batch. HTTPError(\\'401 Client Error: Unauthorized for url: https://api.smith.langchain.com/runs/batch\\', \\'{\"detail\":\"Invalid API key\"}\\')')\n",
      "Failed to batch ingest runs: LangSmithAuthError('Authentication failed for https://api.smith.langchain.com/runs/batch. HTTPError(\\'401 Client Error: Unauthorized for url: https://api.smith.langchain.com/runs/batch\\', \\'{\"detail\":\"Invalid API key\"}\\')')\n",
      "Failed to batch ingest runs: LangSmithAuthError('Authentication failed for https://api.smith.langchain.com/runs/batch. HTTPError(\\'401 Client Error: Unauthorized for url: https://api.smith.langchain.com/runs/batch\\', \\'{\"detail\":\"Invalid API key\"}\\')')\n",
      "Failed to batch ingest runs: LangSmithAuthError('Authentication failed for https://api.smith.langchain.com/runs/batch. HTTPError(\\'401 Client Error: Unauthorized for url: https://api.smith.langchain.com/runs/batch\\', \\'{\"detail\":\"Invalid API key\"}\\')')\n",
      "Failed to batch ingest runs: LangSmithAuthError('Authentication failed for https://api.smith.langchain.com/runs/batch. HTTPError(\\'401 Client Error: Unauthorized for url: https://api.smith.langchain.com/runs/batch\\', \\'{\"detail\":\"Invalid API key\"}\\')')\n",
      "Failed to batch ingest runs: LangSmithAuthError('Authentication failed for https://api.smith.langchain.com/runs/batch. HTTPError(\\'401 Client Error: Unauthorized for url: https://api.smith.langchain.com/runs/batch\\', \\'{\"detail\":\"Invalid API key\"}\\')')\n",
      "Failed to batch ingest runs: LangSmithAuthError('Authentication failed for https://api.smith.langchain.com/runs/batch. HTTPError(\\'401 Client Error: Unauthorized for url: https://api.smith.langchain.com/runs/batch\\', \\'{\"detail\":\"Invalid API key\"}\\')')\n",
      "Failed to batch ingest runs: LangSmithAuthError('Authentication failed for https://api.smith.langchain.com/runs/batch. HTTPError(\\'401 Client Error: Unauthorized for url: https://api.smith.langchain.com/runs/batch\\', \\'{\"detail\":\"Invalid API key\"}\\')')\n",
      "Failed to batch ingest runs: LangSmithAuthError('Authentication failed for https://api.smith.langchain.com/runs/batch. HTTPError(\\'401 Client Error: Unauthorized for url: https://api.smith.langchain.com/runs/batch\\', \\'{\"detail\":\"Invalid API key\"}\\')')\n",
      "Failed to batch ingest runs: LangSmithAuthError('Authentication failed for https://api.smith.langchain.com/runs/batch. HTTPError(\\'401 Client Error: Unauthorized for url: https://api.smith.langchain.com/runs/batch\\', \\'{\"detail\":\"Invalid API key\"}\\')')\n",
      "Failed to batch ingest runs: LangSmithAuthError('Authentication failed for https://api.smith.langchain.com/runs/batch. HTTPError(\\'401 Client Error: Unauthorized for url: https://api.smith.langchain.com/runs/batch\\', \\'{\"detail\":\"Invalid API key\"}\\')')\n",
      "Failed to batch ingest runs: LangSmithAuthError('Authentication failed for https://api.smith.langchain.com/runs/batch. HTTPError(\\'401 Client Error: Unauthorized for url: https://api.smith.langchain.com/runs/batch\\', \\'{\"detail\":\"Invalid API key\"}\\')')\n",
      "Failed to batch ingest runs: LangSmithAuthError('Authentication failed for https://api.smith.langchain.com/runs/batch. HTTPError(\\'401 Client Error: Unauthorized for url: https://api.smith.langchain.com/runs/batch\\', \\'{\"detail\":\"Invalid API key\"}\\')')\n",
      "Failed to batch ingest runs: LangSmithAuthError('Authentication failed for https://api.smith.langchain.com/runs/batch. HTTPError(\\'401 Client Error: Unauthorized for url: https://api.smith.langchain.com/runs/batch\\', \\'{\"detail\":\"Invalid API key\"}\\')')\n",
      "Failed to batch ingest runs: LangSmithAuthError('Authentication failed for https://api.smith.langchain.com/runs/batch. HTTPError(\\'401 Client Error: Unauthorized for url: https://api.smith.langchain.com/runs/batch\\', \\'{\"detail\":\"Invalid API key\"}\\')')\n",
      "Failed to batch ingest runs: LangSmithAuthError('Authentication failed for https://api.smith.langchain.com/runs/batch. HTTPError(\\'401 Client Error: Unauthorized for url: https://api.smith.langchain.com/runs/batch\\', \\'{\"detail\":\"Invalid API key\"}\\')')\n",
      "Failed to batch ingest runs: LangSmithAuthError('Authentication failed for https://api.smith.langchain.com/runs/batch. HTTPError(\\'401 Client Error: Unauthorized for url: https://api.smith.langchain.com/runs/batch\\', \\'{\"detail\":\"Invalid API key\"}\\')')\n",
      "Failed to batch ingest runs: LangSmithAuthError('Authentication failed for https://api.smith.langchain.com/runs/batch. HTTPError(\\'401 Client Error: Unauthorized for url: https://api.smith.langchain.com/runs/batch\\', \\'{\"detail\":\"Invalid API key\"}\\')')\n",
      "Failed to batch ingest runs: LangSmithAuthError('Authentication failed for https://api.smith.langchain.com/runs/batch. HTTPError(\\'401 Client Error: Unauthorized for url: https://api.smith.langchain.com/runs/batch\\', \\'{\"detail\":\"Invalid API key\"}\\')')\n",
      "Failed to batch ingest runs: LangSmithAuthError('Authentication failed for https://api.smith.langchain.com/runs/batch. HTTPError(\\'401 Client Error: Unauthorized for url: https://api.smith.langchain.com/runs/batch\\', \\'{\"detail\":\"Invalid API key\"}\\')')\n",
      "Failed to batch ingest runs: LangSmithAuthError('Authentication failed for https://api.smith.langchain.com/runs/batch. HTTPError(\\'401 Client Error: Unauthorized for url: https://api.smith.langchain.com/runs/batch\\', \\'{\"detail\":\"Invalid API key\"}\\')')\n",
      "Failed to batch ingest runs: LangSmithAuthError('Authentication failed for https://api.smith.langchain.com/runs/batch. HTTPError(\\'401 Client Error: Unauthorized for url: https://api.smith.langchain.com/runs/batch\\', \\'{\"detail\":\"Invalid API key\"}\\')')\n",
      "Failed to batch ingest runs: LangSmithAuthError('Authentication failed for https://api.smith.langchain.com/runs/batch. HTTPError(\\'401 Client Error: Unauthorized for url: https://api.smith.langchain.com/runs/batch\\', \\'{\"detail\":\"Invalid API key\"}\\')')\n",
      "Failed to batch ingest runs: LangSmithAuthError('Authentication failed for https://api.smith.langchain.com/runs/batch. HTTPError(\\'401 Client Error: Unauthorized for url: https://api.smith.langchain.com/runs/batch\\', \\'{\"detail\":\"Invalid API key\"}\\')')\n",
      "Failed to batch ingest runs: LangSmithAuthError('Authentication failed for https://api.smith.langchain.com/runs/batch. HTTPError(\\'401 Client Error: Unauthorized for url: https://api.smith.langchain.com/runs/batch\\', \\'{\"detail\":\"Invalid API key\"}\\')')\n",
      "Failed to batch ingest runs: LangSmithAuthError('Authentication failed for https://api.smith.langchain.com/runs/batch. HTTPError(\\'401 Client Error: Unauthorized for url: https://api.smith.langchain.com/runs/batch\\', \\'{\"detail\":\"Invalid API key\"}\\')')\n",
      "Failed to batch ingest runs: LangSmithAuthError('Authentication failed for https://api.smith.langchain.com/runs/batch. HTTPError(\\'401 Client Error: Unauthorized for url: https://api.smith.langchain.com/runs/batch\\', \\'{\"detail\":\"Invalid API key\"}\\')')\n",
      "Failed to batch ingest runs: LangSmithAuthError('Authentication failed for https://api.smith.langchain.com/runs/batch. HTTPError(\\'401 Client Error: Unauthorized for url: https://api.smith.langchain.com/runs/batch\\', \\'{\"detail\":\"Invalid API key\"}\\')')\n",
      "Failed to batch ingest runs: LangSmithAuthError('Authentication failed for https://api.smith.langchain.com/runs/batch. HTTPError(\\'401 Client Error: Unauthorized for url: https://api.smith.langchain.com/runs/batch\\', \\'{\"detail\":\"Invalid API key\"}\\')')\n",
      "Failed to batch ingest runs: LangSmithAuthError('Authentication failed for https://api.smith.langchain.com/runs/batch. HTTPError(\\'401 Client Error: Unauthorized for url: https://api.smith.langchain.com/runs/batch\\', \\'{\"detail\":\"Invalid API key\"}\\')')\n",
      "Failed to batch ingest runs: LangSmithAuthError('Authentication failed for https://api.smith.langchain.com/runs/batch. HTTPError(\\'401 Client Error: Unauthorized for url: https://api.smith.langchain.com/runs/batch\\', \\'{\"detail\":\"Invalid API key\"}\\')')\n",
      "Failed to batch ingest runs: LangSmithAuthError('Authentication failed for https://api.smith.langchain.com/runs/batch. HTTPError(\\'401 Client Error: Unauthorized for url: https://api.smith.langchain.com/runs/batch\\', \\'{\"detail\":\"Invalid API key\"}\\')')\n",
      "Failed to batch ingest runs: LangSmithAuthError('Authentication failed for https://api.smith.langchain.com/runs/batch. HTTPError(\\'401 Client Error: Unauthorized for url: https://api.smith.langchain.com/runs/batch\\', \\'{\"detail\":\"Invalid API key\"}\\')')\n",
      "Failed to batch ingest runs: LangSmithAuthError('Authentication failed for https://api.smith.langchain.com/runs/batch. HTTPError(\\'401 Client Error: Unauthorized for url: https://api.smith.langchain.com/runs/batch\\', \\'{\"detail\":\"Invalid API key\"}\\')')\n",
      "Failed to batch ingest runs: LangSmithAuthError('Authentication failed for https://api.smith.langchain.com/runs/batch. HTTPError(\\'401 Client Error: Unauthorized for url: https://api.smith.langchain.com/runs/batch\\', \\'{\"detail\":\"Invalid API key\"}\\')')\n",
      "Failed to batch ingest runs: LangSmithAuthError('Authentication failed for https://api.smith.langchain.com/runs/batch. HTTPError(\\'401 Client Error: Unauthorized for url: https://api.smith.langchain.com/runs/batch\\', \\'{\"detail\":\"Invalid API key\"}\\')')\n",
      "Failed to batch ingest runs: LangSmithAuthError('Authentication failed for https://api.smith.langchain.com/runs/batch. HTTPError(\\'401 Client Error: Unauthorized for url: https://api.smith.langchain.com/runs/batch\\', \\'{\"detail\":\"Invalid API key\"}\\')')\n",
      "Failed to batch ingest runs: LangSmithAuthError('Authentication failed for https://api.smith.langchain.com/runs/batch. HTTPError(\\'401 Client Error: Unauthorized for url: https://api.smith.langchain.com/runs/batch\\', \\'{\"detail\":\"Invalid API key\"}\\')')\n",
      "Failed to batch ingest runs: LangSmithAuthError('Authentication failed for https://api.smith.langchain.com/runs/batch. HTTPError(\\'401 Client Error: Unauthorized for url: https://api.smith.langchain.com/runs/batch\\', \\'{\"detail\":\"Invalid API key\"}\\')')\n",
      "Failed to batch ingest runs: LangSmithAuthError('Authentication failed for https://api.smith.langchain.com/runs/batch. HTTPError(\\'401 Client Error: Unauthorized for url: https://api.smith.langchain.com/runs/batch\\', \\'{\"detail\":\"Invalid API key\"}\\')')\n",
      "Failed to batch ingest runs: LangSmithAuthError('Authentication failed for https://api.smith.langchain.com/runs/batch. HTTPError(\\'401 Client Error: Unauthorized for url: https://api.smith.langchain.com/runs/batch\\', \\'{\"detail\":\"Invalid API key\"}\\')')\n",
      "Failed to batch ingest runs: LangSmithAuthError('Authentication failed for https://api.smith.langchain.com/runs/batch. HTTPError(\\'401 Client Error: Unauthorized for url: https://api.smith.langchain.com/runs/batch\\', \\'{\"detail\":\"Invalid API key\"}\\')')\n"
     ]
    }
   ],
   "source": [
    "code_ = coder.invoke({'requirement': 'Get me all the data for the country of germany'})"
   ]
  },
  {
   "cell_type": "code",
   "execution_count": 6,
   "metadata": {},
   "outputs": [
    {
     "name": "stdout",
     "output_type": "stream",
     "text": [
      "import pandas as pd\n",
      "\n",
      "# Read the CSV file\n",
      "data = pd.read_csv('./data.csv')\n",
      "\n",
      "# Filter data for the country of Germany\n",
      "germany_data = data[data['Country'] == 'Germany']\n",
      "\n",
      "# Display the subset of data\n",
      "print(germany_data)\n"
     ]
    }
   ],
   "source": [
    "print(code_.code)"
   ]
  },
  {
   "cell_type": "code",
   "execution_count": 7,
   "metadata": {},
   "outputs": [],
   "source": [
    "from io import StringIO\n",
    "import sys\n",
    "tmp = sys.stdout\n",
    "my_result = StringIO()\n",
    "sys.stdout = my_result\n",
    "exec(code_.code)\n",
    "sys.stdout = tmp"
   ]
  },
  {
   "cell_type": "code",
   "execution_count": 8,
   "metadata": {},
   "outputs": [
    {
     "name": "stdout",
     "output_type": "stream",
     "text": [
      "       TransactionNo       Date ProductNo                        ProductName  \\\n",
      "914           581494  12/9/2019     23084                 Rabbit Night Light   \n",
      "915           581494  12/9/2019     21559  Strawberry Lunch Box With Cutlery   \n",
      "916           581494  12/9/2019     21506           Fancy Font Birthday Card   \n",
      "917           581494  12/9/2019     22716                 Card Circus Parade   \n",
      "918           581494  12/9/2019     22556      Plasters In Tin Circus Parade   \n",
      "...              ...        ...       ...                                ...   \n",
      "536345       C536548  12/1/2018     22168       Organiser Wood Antique White   \n",
      "536346       C536548  12/1/2018     21218             Red Spotty Biscuit Tin   \n",
      "536347       C536548  12/1/2018     20957       Porcelain Hanging Bell Small   \n",
      "536348       C536548  12/1/2018     22580       Advent Calendar Gingham Sack   \n",
      "536349       C536548  12/1/2018     22767         Triple Photo Frame Cornice   \n",
      "\n",
      "        Price  Quantity  CustomerNo  Country  \n",
      "914      6.19        24     12518.0  Germany  \n",
      "915      6.19         6     12518.0  Germany  \n",
      "916      6.19        12     12518.0  Germany  \n",
      "917      6.19        12     12518.0  Germany  \n",
      "918      6.19        12     12518.0  Germany  \n",
      "...       ...       ...         ...      ...  \n",
      "536345  18.96        -2     12472.0  Germany  \n",
      "536346  14.09        -3     12472.0  Germany  \n",
      "536347  11.74        -1     12472.0  Germany  \n",
      "536348  16.35        -4     12472.0  Germany  \n",
      "536349  20.45        -2     12472.0  Germany  \n",
      "\n",
      "[10675 rows x 8 columns]\n",
      "\n"
     ]
    }
   ],
   "source": [
    "print(my_result.getvalue())"
   ]
  },
  {
   "cell_type": "code",
   "execution_count": 31,
   "metadata": {},
   "outputs": [],
   "source": [
    "class Insights(BaseModel):\n",
    "    \"\"\"Plan to follow in future\"\"\"\n",
    "    \n",
    "    insight: str = Field(\n",
    "        description= \"Insights based on the data we pass\"\n",
    "    )\n",
    "    \n",
    "from langchain.chains.openai_functions import create_structured_output_runnable\n",
    "from langchain_core.prompts import ChatPromptTemplate\n",
    "\n",
    "insight_gen_prompt = ChatPromptTemplate.from_template(\n",
    "    '''\n",
    "**Role**: You are an expert in data analysis, with a strong background in providing actionable business insights from complex datasets.\n",
    "**Task**: Your objective is to analyze a dataset provided to you, which contains information in the form of rows and columns related to e-commerce transactions. Utilize your analytical skills to examine the data and extract valuable insights that can inform business decisions, such as inventory management, marketing strategies, and customer satisfaction initiatives, and after you do all this, return those insights.\n",
    "\n",
    "**Instructions**:\n",
    "1. **Data Exploration**: Start by understanding the dataset's structure, including the number of rows and columns and the types of data (numerical, categorical) it contains. Identify key columns that could provide valuable insights, such as product names, quantities sold, prices, and transaction countries.\n",
    "2. **Data Processing and Analysis**: Clean and preprocess the data if necessary. Then, conduct an in-depth analysis to uncover trends, patterns, and anomalies. Focus on identifying top-selling products, revenue-generating items, sales distribution by country, average purchase values, and products with high return rates.\n",
    "3. **Insight Extraction**: Based on your analysis, extract actionable insights that could help a business executive make informed decisions. This might include recommendations on stocking up certain products, identifying products that contribute most to the revenue, understanding market dynamics across different regions, and addressing issues related to product returns.\n",
    "4. **Reporting and Visualization**: Present your findings in a clear and understandable manner, supported by data visualizations where appropriate. Your report should highlight key insights and suggest actions that could improve the business's performance.\n",
    "\n",
    "*OUTPUT EXPECTATION*:\n",
    "The expected outcome is a comprehensive report containing actionable insights derived from the dataset. These insights should inform business strategies such as which products to stock more of, how to enhance marketing efforts, understanding customer preferences, and how to reduce return rates. The insights should be presented in a manner that is easily understandable by business executives, focusing on improving profitability and customer satisfaction.\n",
    "\n",
    "*REQUIREMENT*:\n",
    "Provide a structured dataset containing e-commerce transactions\n",
    "*Data*:\n",
    "{data}\n",
    "'''\n",
    "\n",
    ")\n",
    "\n",
    "insights_agent = create_structured_output_runnable(\n",
    "    Insights, llm, insight_gen_prompt\n",
    ")"
   ]
  },
  {
   "cell_type": "code",
   "execution_count": 32,
   "metadata": {},
   "outputs": [],
   "source": [
    "insight_ = insights_agent.invoke({'data': my_result.getvalue()})"
   ]
  },
  {
   "cell_type": "code",
   "execution_count": 33,
   "metadata": {},
   "outputs": [
    {
     "name": "stdout",
     "output_type": "stream",
     "text": [
      "Based on the provided dataset, the following insights can be extracted:\n",
      "\n",
      "1. **Top-Selling Products**: The 'Rabbit Night Light' and 'Strawberry Lunch Box With Cutlery' are among the top-selling products. These items should be kept in stock to meet customer demand.\n",
      "\n",
      "2. **Revenue-Generating Items**: Products such as the 'Organiser Wood Antique White' and 'Triple Photo Frame Cornice' have high prices, indicating that they contribute significantly to the revenue. Marketing efforts can be enhanced for these products to increase sales.\n",
      "\n",
      "3. **Sales Distribution by Country**: The dataset includes transactions from Germany. Understanding the market dynamics in this region can help tailor marketing strategies and inventory management.\n",
      "\n",
      "4. **Average Purchase Values**: The average purchase value can be calculated by multiplying the quantity of each product sold by its price. This information can help identify which products are driving the most revenue.\n",
      "\n",
      "5. **Products with High Return Rates**: Products with negative quantities represent returns. The 'Red Spotty Biscuit Tin' and 'Advent Calendar Gingham Sack' have been returned multiple times, indicating potential issues with these products that should be addressed to improve customer satisfaction and reduce return rates.\n"
     ]
    }
   ],
   "source": [
    "print(insight_.insight)"
   ]
  },
  {
   "cell_type": "markdown",
   "metadata": {},
   "source": [
    "# Graph Design"
   ]
  },
  {
   "cell_type": "code",
   "execution_count": 69,
   "metadata": {},
   "outputs": [],
   "source": [
    "class AgentCoder(TypedDict):\n",
    "    requirement: str\n",
    "    data: str\n",
    "    insights: str"
   ]
  },
  {
   "cell_type": "code",
   "execution_count": 70,
   "metadata": {},
   "outputs": [],
   "source": [
    "def programmer(state):\n",
    "    print(\"Entering the programmer\")\n",
    "    # print(\"\\n===================\")\n",
    "    # print(state)\n",
    "    # print(\"\\n====================\")\n",
    "    requirement = state['requirement']\n",
    "    code_ = coder.invoke({'requirement':requirement})\n",
    "    tmp = sys.stdout\n",
    "    data = StringIO()\n",
    "    sys.stdout = data\n",
    "    exec(code_.code)\n",
    "    sys.stdout = tmp\n",
    "    \n",
    "    return {'data': data.getvalue()}\n",
    "    \n",
    "def insight_generator(state):\n",
    "    print(\"Entering Insight Generator\")\n",
    "    # print(\"\\n===================\")\n",
    "    # print(state)\n",
    "    # print(\"\\n====================\")\n",
    "    data = state['data']\n",
    "    insight_ = insights_agent.invoke({'data': data})\n",
    "    return {'insights': insight_.insight}\n",
    "    \n",
    "def decide_to_end(state):\n",
    "    print(f'Entering in Decide to End')\n",
    "    # print(state['insights'])\n",
    "    if state['insights'] is not None:\n",
    "        return 'end'\n",
    "    else:\n",
    "        return 'programmer'"
   ]
  },
  {
   "cell_type": "code",
   "execution_count": 71,
   "metadata": {},
   "outputs": [],
   "source": [
    "from langgraph.graph import END, StateGraph\n",
    "\n",
    "workflow = StateGraph(AgentCoder)\n",
    "\n",
    "\n",
    "workflow.add_node('programmer', programmer)\n",
    "workflow.add_node('insight_generator', insight_generator)\n",
    "\n",
    "workflow.set_entry_point(\"programmer\")\n",
    "workflow.add_edge(\"programmer\", \"insight_generator\")\n",
    "\n",
    "workflow.add_conditional_edges(\n",
    "    \"insight_generator\",\n",
    "    decide_to_end,\n",
    "    {\n",
    "        \"end\": END,\n",
    "        \"programmer\": \"programmer\",\n",
    "    },\n",
    ")"
   ]
  },
  {
   "cell_type": "code",
   "execution_count": 72,
   "metadata": {},
   "outputs": [],
   "source": [
    "app = workflow.compile()"
   ]
  },
  {
   "cell_type": "code",
   "execution_count": 73,
   "metadata": {},
   "outputs": [],
   "source": [
    "requirement = \"Get me all the data for the country of france\""
   ]
  },
  {
   "cell_type": "code",
   "execution_count": 74,
   "metadata": {},
   "outputs": [
    {
     "name": "stdout",
     "output_type": "stream",
     "text": [
      "Entering the programmer\n",
      "{'data': '       TransactionNo       Date ProductNo                     ProductName  \\\\\\n1598          581587  12/9/2019     22631         Circus Parade Lunch Box   \\n1599          581587  12/9/2019     22556   Plasters In Tin Circus Parade   \\n1600          581587  12/9/2019     22555       Plasters In Tin Strongman   \\n1601          581587  12/9/2019     22728       Alarm Clock Bakelike Pink   \\n1602          581587  12/9/2019     22727        Alarm Clock Bakelike Red   \\n...              ...        ...       ...                             ...   \\n533303        536370  12/1/2018     22900  Set 2 Tea Towels I Love London   \\n533304        536370  12/1/2018     21913  Vintage Seaside Jigsaw Puzzles   \\n533305        536370  12/1/2018     22540       Mini Jigsaw Circus Parade   \\n533306        536370  12/1/2018     22544            Mini Jigsaw Spaceboy   \\n533307        536370  12/1/2018     22492          Mini Paint Set Vintage   \\n\\n        Price  Quantity  CustomerNo Country  \\n1598     6.19        12     12680.0  France  \\n1599     6.19        12     12680.0  France  \\n1600     6.19        12     12680.0  France  \\n1601     6.19         4     12680.0  France  \\n1602     6.19         4     12680.0  France  \\n...       ...       ...         ...     ...  \\n533303  13.27        24     12583.0  France  \\n533304  14.09        12     12583.0  France  \\n533305  10.68        24     12583.0  France  \\n533306  10.68        24     12583.0  France  \\n533307  10.92        36     12583.0  France  \\n\\n[10526 rows x 8 columns]\\n'}\n",
      "--------------------------------------------------------------------------------------------------------------------------------------------------------------------------------------------------------\n",
      "Entering Insight Generator\n",
      "{'insights': \"Based on the provided dataset, the following insights can be derived:\\n\\n1. **Top-Selling Products**: The 'Circus Parade Lunch Box', 'Plasters In Tin Circus Parade', 'Plasters In Tin Strongman', 'Alarm Clock Bakelike Pink', and 'Alarm Clock Bakelike Red' are among the top-selling products. These items should be kept in stock to meet customer demand.\\n\\n2. **Revenue-Generating Items**: Products such as the 'Set 2 Tea Towels I Love London', 'Vintage Seaside Jigsaw Puzzles', 'Mini Jigsaw Circus Parade', 'Mini Jigsaw Spaceboy', and 'Mini Paint Set Vintage' have higher prices and are sold in larger quantities, contributing significantly to the revenue. Marketing efforts can be enhanced for these products to increase sales.\\n\\n3. **Sales Distribution by Country**: The majority of the transactions are from France. This indicates a strong market presence in France, and strategies should be developed to maintain and increase market share in this region.\\n\\n4. **Average Purchase Values**: The average purchase value seems to be high, indicating that customers are willing to spend more on their purchases. This could be due to the quality of the products or the brand's reputation. Efforts should be made to maintain this trend.\\n\\n5. **Products with High Return Rates**: The dataset does not provide information on product returns. However, this is an important aspect to consider for inventory management and customer satisfaction. A separate analysis should be conducted on return data, if available, to identify products with high return rates and address any issues related to these products.\"}\n",
      "--------------------------------------------------------------------------------------------------------------------------------------------------------------------------------------------------------\n",
      "Entering in Decide to End\n"
     ]
    }
   ],
   "source": [
    "from langchain_core.messages import HumanMessage\n",
    "\n",
    "config = {\"recursion_limit\": 50}\n",
    "inputs = {\"requirement\": requirement}\n",
    "running_dict = {}\n",
    "async for event in app.astream(inputs, config=config):\n",
    "    for k, v in event.items():\n",
    "        running_dict[k] = v\n",
    "        if k != \"__end__\":\n",
    "            print(v)\n",
    "            print('----------'*20)"
   ]
  },
  {
   "cell_type": "code",
   "execution_count": 75,
   "metadata": {},
   "outputs": [
    {
     "name": "stdout",
     "output_type": "stream",
     "text": [
      "Based on the provided dataset, the following insights can be derived:\n",
      "\n",
      "1. **Top-Selling Products**: The 'Circus Parade Lunch Box', 'Plasters In Tin Circus Parade', 'Plasters In Tin Strongman', 'Alarm Clock Bakelike Pink', and 'Alarm Clock Bakelike Red' are among the top-selling products. These items should be kept in stock to meet customer demand.\n",
      "\n",
      "2. **Revenue-Generating Items**: Products such as the 'Set 2 Tea Towels I Love London', 'Vintage Seaside Jigsaw Puzzles', 'Mini Jigsaw Circus Parade', 'Mini Jigsaw Spaceboy', and 'Mini Paint Set Vintage' have higher prices and are sold in larger quantities, contributing significantly to the revenue. Marketing efforts can be enhanced for these products to increase sales.\n",
      "\n",
      "3. **Sales Distribution by Country**: The majority of the transactions are from France. This indicates a strong market presence in France, and strategies should be developed to maintain and increase market share in this region.\n",
      "\n",
      "4. **Average Purchase Values**: The average purchase value seems to be high, indicating that customers are willing to spend more on their purchases. This could be due to the quality of the products or the brand's reputation. Efforts should be made to maintain this trend.\n",
      "\n",
      "5. **Products with High Return Rates**: The dataset does not provide information on product returns. However, this is an important aspect to consider for inventory management and customer satisfaction. A separate analysis should be conducted on return data, if available, to identify products with high return rates and address any issues related to these products.\n"
     ]
    }
   ],
   "source": [
    "print(v['insights'])"
   ]
  },
  {
   "cell_type": "code",
   "execution_count": null,
   "metadata": {},
   "outputs": [],
   "source": []
  }
 ],
 "metadata": {
  "kernelspec": {
   "display_name": "venv",
   "language": "python",
   "name": "python3"
  },
  "language_info": {
   "codemirror_mode": {
    "name": "ipython",
    "version": 3
   },
   "file_extension": ".py",
   "mimetype": "text/x-python",
   "name": "python",
   "nbconvert_exporter": "python",
   "pygments_lexer": "ipython3",
   "version": "3.10.8"
  }
 },
 "nbformat": 4,
 "nbformat_minor": 2
}
